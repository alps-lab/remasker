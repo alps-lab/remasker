{
  "nbformat": 4,
  "nbformat_minor": 0,
  "metadata": {
    "colab": {
      "provenance": [],
      "authorship_tag": "ABX9TyO1L41rIDT1BCFwhe/ZeafT",
      "include_colab_link": true
    },
    "kernelspec": {
      "name": "python3",
      "display_name": "Python 3"
    },
    "language_info": {
      "name": "python"
    }
  },
  "cells": [
    {
      "cell_type": "markdown",
      "metadata": {
        "id": "view-in-github",
        "colab_type": "text"
      },
      "source": [
        "<a href=\"https://colab.research.google.com/github/alps-lab/remasker/blob/main/iclr_plot.ipynb\" target=\"_parent\"><img src=\"https://colab.research.google.com/assets/colab-badge.svg\" alt=\"Open In Colab\"/></a>"
      ]
    },
    {
      "cell_type": "code",
      "execution_count": null,
      "metadata": {
        "id": "vJejLg2zZs_G"
      },
      "outputs": [],
      "source": [
        "import matplotlib as mpl\n",
        "from matplotlib import cycler\n",
        "import matplotlib.pyplot as plt\n",
        "import numpy as np\n",
        "import json\n",
        "from google.colab import drive\n",
        "drive.mount('/content/drive')\n",
        "\n",
        "file = '/content/drive/My Drive/Colab Notebooks/data/letter-cka2.json'\n",
        "\n",
        "data = json.load(open(file))\n",
        "p\n",
        "x = np.arange(10, 601, 10)\n",
        "miss_rates = ['0.1', '0.3', '0.5', '0.7']\n",
        "ymean = []\n",
        "ystd = []\n",
        "\n",
        "for miss_rate in miss_rates:\n",
        "  y = np.array(data[miss_rate])\n",
        "  ymean.append(np.mean(y, 1))\n",
        "  ystd.append(np.std(y, 1))\n",
        "\n",
        "ymean, ystd = np.array(ymean), np.array(ystd)\n",
        "\n",
        "# Fixing random state for reproducibility\n",
        "# np.random.seed(19680801)\n",
        "\n",
        "# N = 10\n",
        "# data = (np.geomspace(1, 10, 100) + np.random.randn(N, 100)).T\n",
        "cmap = plt.cm.coolwarm\n",
        "# # mpl.rcParams['axes.prop_cycle'] = cycler(color=cmap(np.linspace(0, 1, N)))\n",
        "\n",
        "fig, ax = plt.subplots()\n",
        "for i in range(len(miss_rates)):\n",
        "  ax.plot(x, ymean[i,:], color=cmap(i/len(miss_rates)), lw=1, label=miss_rates[i])\n",
        "  ax.fill_between(x,  ymean[i,:] - ystd[i,:], ymean[i,:] + ystd[i,:], color=cmap(i/len(miss_rates)), alpha=0.25)\n",
        "\n",
        "ax.set_ylim(0.4, 0.9)\n",
        "ax.set_yticks(np.arange(0.4, 0.95, 0.05))\n",
        "\n",
        "ax.legend(title='missing ratio')\n",
        "ax.set_xlabel('Training Epochs')\n",
        "ax.set_ylabel('CKA Similarity')\n",
        "fig.savefig('/content/drive/My Drive/Colab Notebooks/data/cka.pdf')\n",
        "\n",
        "# # lines = ax.plot(data)\n",
        "# # ax.legend()\n",
        "\n",
        "# N = 4\n",
        "\n",
        "\n",
        "\n",
        "# custom_lines = [Line2D([0], [0], color=cmap(0.), lw=4),\n",
        "#                 Line2D([0], [0], color=cmap(.5), lw=4),\n",
        "#                 Line2D([0], [0], color=cmap(1.), lw=4)]\n",
        "\n",
        "# fig, ax = plt.subplots()\n",
        "# lines = ax.plot(data)\n",
        "\n",
        "# # ax.fill_between(x, y_est - y_err, y_est + y_err, alpha=0.2)\n",
        "\n",
        "# ax.legend(custom_lines, ['Cold', 'Medium', 'Hot'])\n",
        "\n",
        "\n"
      ]
    },
    {
      "cell_type": "code",
      "source": [
        "!/usr/local/cuda/bin/nvcc --version\n",
        "!nvidia-smi"
      ],
      "metadata": {
        "colab": {
          "base_uri": "https://localhost:8080/"
        },
        "id": "sXDn8lxBi19w",
        "outputId": "74ddc17d-4e47-4208-fbcd-ba846325da7b"
      },
      "execution_count": null,
      "outputs": [
        {
          "output_type": "stream",
          "name": "stdout",
          "text": [
            "nvcc: NVIDIA (R) Cuda compiler driver\n",
            "Copyright (c) 2005-2023 NVIDIA Corporation\n",
            "Built on Tue_Aug_15_22:02:13_PDT_2023\n",
            "Cuda compilation tools, release 12.2, V12.2.140\n",
            "Build cuda_12.2.r12.2/compiler.33191640_0\n",
            "/bin/bash: line 1: nvidia-smi: command not found\n"
          ]
        }
      ]
    },
    {
      "cell_type": "code",
      "source": [
        "import matplotlib as mpl\n",
        "from matplotlib import cycler\n",
        "import matplotlib.pyplot as plt\n",
        "import numpy as np\n",
        "import json\n",
        "from google.colab import drive\n",
        "drive.mount('/content/drive')\n",
        "\n",
        "file = '/content/drive/My Drive/Colab Notebooks/data/letter-cka2.json'\n",
        "\n",
        "data = {}\n",
        "\n",
        "x = np.arange(1, 6, 1)\n",
        "miss_rates = ['5e-5', '1e-4', '2e-4']\n",
        "ymean = []\n",
        "ystd = []\n",
        "\n",
        "data['1e-4'] = np.array([71.3, 12.9, 9.8, 9.3, 9.4])\n",
        "data['2e-4'] = np.array([10.7, 8.5, 10.7, 9.6, 9.1])\n",
        "data['5e-5'] = np.array([78.7, 72.7, 51, 17.8, 8.9])\n",
        "\n",
        "# data['1e-4'] = np.array([9.3, 8.9, 9.1, 8.3, 10.3])\n",
        "# data['2e-4'] = np.array([9.3, 9.4, 11.2, 9.8, 9.4])\n",
        "# data['5e-5'] = np.array([9.7, 10.4, 8.4, 5.6, 9.1])\n",
        "\n",
        "\n",
        "\n",
        "\n",
        "for miss_rate in miss_rates:\n",
        "  y = np.array(data[miss_rate]/100)\n",
        "  ymean.append(y)\n",
        "  # ystd.append(np.std(y, 1))\n",
        "\n",
        "ymean = np.array(ymean)\n",
        "\n",
        "# Fixing random state for reproducibility\n",
        "# np.random.seed(19680801)\n",
        "\n",
        "# N = 10\n",
        "# data = (np.geomspace(1, 10, 100) + np.random.randn(N, 100)).T\n",
        "cmap = plt.cm.coolwarm\n",
        "# # mpl.rcParams['axes.prop_cycle'] = cycler(color=cmap(np.linspace(0, 1, N)))\n",
        "\n",
        "fig, ax = plt.subplots()\n",
        "for i in range(len(miss_rates)):\n",
        "  ax.plot(x, ymean[i,:], color=cmap(i/len(miss_rates)), lw=2, label=miss_rates[i])\n",
        "  # ax.fill_between(x,  ymean[i,:] - ystd[i,:], ymean[i,:] + ystd[i,:], color=cmap(i/len(miss_rates)), alpha=0.25)\n",
        "\n",
        "ax.set_ylim(0, 1.0)\n",
        "# ax.set_yticks(np.arange(0, 0.1, 1.0))\n",
        "ax.set_xlim(0.75, 5.25)\n",
        "# ax.set_xticks(np.arange(1, 1, 5))\n",
        "\n",
        "# ax.title('ASR (Untargeted Attack)')\n",
        "ax.legend(title='learning rate')\n",
        "ax.set_xlabel('Training Epochs')\n",
        "# ax.set_ylabel('Attack Success Rate (ASR)')\n",
        "\n",
        "ax.set_ylabel('Clean Accuracy (ACC)')\n",
        "\n",
        "ax.spines['right'].set_visible(False)\n",
        "ax.spines['top'].set_visible(False)\n",
        "ax.spines['left'].set_visible(True)\n",
        "ax.spines['bottom'].set_visible(True)\n",
        "\n",
        "fig.savefig('/content/drive/My Drive/Colab Notebooks/data/acc.pdf')\n",
        "\n",
        "# # lines = ax.plot(data)\n",
        "# # ax.legend()\n",
        "\n",
        "# N = 4\n",
        "\n",
        "\n",
        "\n",
        "# custom_lines = [Line2D([0], [0], color=cmap(0.), lw=4),\n",
        "#                 Line2D([0], [0], color=cmap(.5), lw=4),\n",
        "#                 Line2D([0], [0], color=cmap(1.), lw=4)]\n",
        "\n",
        "# fig, ax = plt.subplots()\n",
        "# lines = ax.plot(data)\n",
        "\n",
        "# # ax.fill_between(x, y_est - y_err, y_est + y_err, alpha=0.2)\n",
        "\n",
        "# ax.legend(custom_lines, ['Cold', 'Medium', 'Hot'])\n",
        "\n",
        "\n"
      ],
      "metadata": {
        "colab": {
          "base_uri": "https://localhost:8080/",
          "height": 472
        },
        "id": "InaNsxYcv4gT",
        "outputId": "b5f932b6-2313-4e70-c1da-362218fbc91a"
      },
      "execution_count": null,
      "outputs": [
        {
          "output_type": "stream",
          "name": "stdout",
          "text": [
            "Drive already mounted at /content/drive; to attempt to forcibly remount, call drive.mount(\"/content/drive\", force_remount=True).\n"
          ]
        },
        {
          "output_type": "display_data",
          "data": {
            "text/plain": [
              "<Figure size 640x480 with 1 Axes>"
            ],
            "image/png": "[encoded data removed]"
          },
          "metadata": {}
        }
      ]
    }
  ]
}